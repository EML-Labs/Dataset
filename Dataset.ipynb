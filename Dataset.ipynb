{
  "nbformat": 4,
  "nbformat_minor": 0,
  "metadata": {
    "colab": {
      "provenance": [],
      "include_colab_link": true
    },
    "kernelspec": {
      "name": "python3",
      "display_name": "Python 3"
    },
    "language_info": {
      "name": "python"
    }
  },
  "cells": [
    {
      "cell_type": "markdown",
      "metadata": {
        "id": "view-in-github",
        "colab_type": "text"
      },
      "source": [
        "<a href=\"https://colab.research.google.com/github/EML-Labs/Dataset/blob/main/Dataset.ipynb\" target=\"_parent\"><img src=\"https://colab.research.google.com/assets/colab-badge.svg\" alt=\"Open In Colab\"/></a>"
      ]
    },
    {
      "cell_type": "code",
      "source": [
        "!pip install wfdb"
      ],
      "metadata": {
        "colab": {
          "base_uri": "https://localhost:8080/"
        },
        "id": "3Xb8s4oT46_E",
        "outputId": "7d322495-8952-40aa-f7dd-4a081d0c0169",
        "collapsed": true
      },
      "execution_count": 10,
      "outputs": [
        {
          "output_type": "stream",
          "name": "stdout",
          "text": [
            "Requirement already satisfied: wfdb in /usr/local/lib/python3.11/dist-packages (4.3.0)\n",
            "Requirement already satisfied: aiohttp>=3.10.11 in /usr/local/lib/python3.11/dist-packages (from wfdb) (3.11.15)\n",
            "Requirement already satisfied: fsspec>=2023.10.0 in /usr/local/lib/python3.11/dist-packages (from wfdb) (2025.3.2)\n",
            "Requirement already satisfied: matplotlib>=3.2.2 in /usr/local/lib/python3.11/dist-packages (from wfdb) (3.10.0)\n",
            "Requirement already satisfied: numpy>=1.26.4 in /usr/local/lib/python3.11/dist-packages (from wfdb) (2.0.2)\n",
            "Requirement already satisfied: pandas>=2.2.3 in /usr/local/lib/python3.11/dist-packages (from wfdb) (2.3.0)\n",
            "Requirement already satisfied: requests>=2.8.1 in /usr/local/lib/python3.11/dist-packages (from wfdb) (2.32.3)\n",
            "Requirement already satisfied: scipy>=1.13.0 in /usr/local/lib/python3.11/dist-packages (from wfdb) (1.15.3)\n",
            "Requirement already satisfied: soundfile>=0.10.0 in /usr/local/lib/python3.11/dist-packages (from wfdb) (0.13.1)\n",
            "Requirement already satisfied: aiohappyeyeballs>=2.3.0 in /usr/local/lib/python3.11/dist-packages (from aiohttp>=3.10.11->wfdb) (2.6.1)\n",
            "Requirement already satisfied: aiosignal>=1.1.2 in /usr/local/lib/python3.11/dist-packages (from aiohttp>=3.10.11->wfdb) (1.3.2)\n",
            "Requirement already satisfied: attrs>=17.3.0 in /usr/local/lib/python3.11/dist-packages (from aiohttp>=3.10.11->wfdb) (25.3.0)\n",
            "Requirement already satisfied: frozenlist>=1.1.1 in /usr/local/lib/python3.11/dist-packages (from aiohttp>=3.10.11->wfdb) (1.7.0)\n",
            "Requirement already satisfied: multidict<7.0,>=4.5 in /usr/local/lib/python3.11/dist-packages (from aiohttp>=3.10.11->wfdb) (6.6.3)\n",
            "Requirement already satisfied: propcache>=0.2.0 in /usr/local/lib/python3.11/dist-packages (from aiohttp>=3.10.11->wfdb) (0.3.2)\n",
            "Requirement already satisfied: yarl<2.0,>=1.17.0 in /usr/local/lib/python3.11/dist-packages (from aiohttp>=3.10.11->wfdb) (1.20.1)\n",
            "Requirement already satisfied: contourpy>=1.0.1 in /usr/local/lib/python3.11/dist-packages (from matplotlib>=3.2.2->wfdb) (1.3.2)\n",
            "Requirement already satisfied: cycler>=0.10 in /usr/local/lib/python3.11/dist-packages (from matplotlib>=3.2.2->wfdb) (0.12.1)\n",
            "Requirement already satisfied: fonttools>=4.22.0 in /usr/local/lib/python3.11/dist-packages (from matplotlib>=3.2.2->wfdb) (4.58.4)\n",
            "Requirement already satisfied: kiwisolver>=1.3.1 in /usr/local/lib/python3.11/dist-packages (from matplotlib>=3.2.2->wfdb) (1.4.8)\n",
            "Requirement already satisfied: packaging>=20.0 in /usr/local/lib/python3.11/dist-packages (from matplotlib>=3.2.2->wfdb) (24.2)\n",
            "Requirement already satisfied: pillow>=8 in /usr/local/lib/python3.11/dist-packages (from matplotlib>=3.2.2->wfdb) (11.2.1)\n",
            "Requirement already satisfied: pyparsing>=2.3.1 in /usr/local/lib/python3.11/dist-packages (from matplotlib>=3.2.2->wfdb) (3.2.3)\n",
            "Requirement already satisfied: python-dateutil>=2.7 in /usr/local/lib/python3.11/dist-packages (from matplotlib>=3.2.2->wfdb) (2.9.0.post0)\n",
            "Requirement already satisfied: pytz>=2020.1 in /usr/local/lib/python3.11/dist-packages (from pandas>=2.2.3->wfdb) (2025.2)\n",
            "Requirement already satisfied: tzdata>=2022.7 in /usr/local/lib/python3.11/dist-packages (from pandas>=2.2.3->wfdb) (2025.2)\n",
            "Requirement already satisfied: charset-normalizer<4,>=2 in /usr/local/lib/python3.11/dist-packages (from requests>=2.8.1->wfdb) (3.4.2)\n",
            "Requirement already satisfied: idna<4,>=2.5 in /usr/local/lib/python3.11/dist-packages (from requests>=2.8.1->wfdb) (3.10)\n",
            "Requirement already satisfied: urllib3<3,>=1.21.1 in /usr/local/lib/python3.11/dist-packages (from requests>=2.8.1->wfdb) (2.4.0)\n",
            "Requirement already satisfied: certifi>=2017.4.17 in /usr/local/lib/python3.11/dist-packages (from requests>=2.8.1->wfdb) (2025.6.15)\n",
            "Requirement already satisfied: cffi>=1.0 in /usr/local/lib/python3.11/dist-packages (from soundfile>=0.10.0->wfdb) (1.17.1)\n",
            "Requirement already satisfied: pycparser in /usr/local/lib/python3.11/dist-packages (from cffi>=1.0->soundfile>=0.10.0->wfdb) (2.22)\n",
            "Requirement already satisfied: six>=1.5 in /usr/local/lib/python3.11/dist-packages (from python-dateutil>=2.7->matplotlib>=3.2.2->wfdb) (1.17.0)\n"
          ]
        }
      ]
    },
    {
      "cell_type": "code",
      "source": [
        "import os\n",
        "import os\n",
        "import wfdb\n",
        "import numpy as np\n",
        "import glob\n",
        "import csv"
      ],
      "metadata": {
        "id": "cmMfsZjtiB-7"
      },
      "execution_count": 8,
      "outputs": []
    },
    {
      "cell_type": "code",
      "execution_count": 30,
      "metadata": {
        "id": "Pt_QYWkhX36h",
        "colab": {
          "base_uri": "https://localhost:8080/"
        },
        "outputId": "b7b13952-c2d1-4dd8-dd58-9a9919f3cfe5"
      },
      "outputs": [
        {
          "output_type": "stream",
          "name": "stdout",
          "text": [
            "Drive already mounted at /content/drive; to attempt to forcibly remount, call drive.mount(\"/content/drive\", force_remount=True).\n"
          ]
        }
      ],
      "source": [
        "from google.colab import drive\n",
        "\n",
        "drive.mount('/content/drive')"
      ]
    },
    {
      "cell_type": "code",
      "source": [
        "def segment_and_label(record_path, record_name, label, window_sec=30, overlap=0.0, save_dir='segments'):\n",
        "    try:\n",
        "        record = wfdb.rdrecord(os.path.join(record_path, record_name))\n",
        "        signal = record.p_signal\n",
        "        fs = record.fs\n",
        "        window_size = int(window_sec * fs)\n",
        "        step_size = int(window_size * (1 - overlap))\n",
        "\n",
        "        os.makedirs(save_dir, exist_ok=True)\n",
        "\n",
        "        segment_id = 0\n",
        "        for start in range(0, len(signal) - window_size + 1, step_size):\n",
        "            segment = signal[start:start + window_size]\n",
        "            fname = f\"{record_name}_seg{segment_id:03d}.npy\"\n",
        "            np.save(os.path.join(save_dir, fname), segment)\n",
        "            csv_rows.append([fname, label])\n",
        "            segment_id += 1\n",
        "\n",
        "        print(f\"Saved {segment_id} segments for {record_name} with label {label}\")\n",
        "    except Exception as e:\n",
        "        print(f\"Failed to process {record_name}: {e}\")"
      ],
      "metadata": {
        "id": "uQVKLvSfiomc"
      },
      "execution_count": 37,
      "outputs": []
    },
    {
      "cell_type": "code",
      "source": [
        "raw_data_dir =  \"/content/drive/Shareddrives/Datasets/1.0.0\" # Adjust the path according to the drive\n",
        "segment_save_dir = \"/content/drive/MyDrive/Datasets/1.0.0\" # Adjust the path according to the drive\n",
        "os.makedirs(segment_save_dir, exist_ok=True)\n",
        "\n",
        "\n",
        "label_file = os.path.join(segment_save_dir, 'labels.csv')\n",
        "\n",
        "csv_rows = [['filename', 'label']]"
      ],
      "metadata": {
        "id": "C_A_iflYirax"
      },
      "execution_count": 35,
      "outputs": []
    },
    {
      "cell_type": "code",
      "source": [
        "# 5. Get list of records starting with 'p', excluding those ending with 'c'\n",
        "\n",
        "hea_files = sorted(glob.glob(os.path.join(raw_data_dir, 'p*.hea')))\n",
        "record_names = [\n",
        "    os.path.splitext(os.path.basename(f))[0]\n",
        "    for f in hea_files\n",
        "    if not os.path.basename(f).endswith('c')\n",
        "]\n",
        "\n",
        "print(f\"Found {len(record_names)} records.\")"
      ],
      "metadata": {
        "id": "PiCF0-kJjGex",
        "outputId": "fdfed2bc-b66f-4942-e6f9-f40be22514fa",
        "colab": {
          "base_uri": "https://localhost:8080/"
        }
      },
      "execution_count": 36,
      "outputs": [
        {
          "output_type": "stream",
          "name": "stdout",
          "text": [
            "Found 0 records.\n"
          ]
        }
      ]
    },
    {
      "cell_type": "code",
      "source": [
        "# Process records\n",
        "for record_name in record_names:\n",
        "    try:\n",
        "        rec_num = int(record_name[1:])  # Get number after 'p'\n",
        "        label = 1 if rec_num % 2 == 0 else 0  # Even = pre-af (1), Odd = non-af (0)\n",
        "        segment_and_label(record_path=raw_data_dir,\n",
        "                          record_name=record_name,\n",
        "                          label=label,\n",
        "                          window_sec=30,\n",
        "                          overlap=0.0,\n",
        "                          save_dir=segment_save_dir)\n",
        "    except ValueError:\n",
        "        print(f\"Skipping malformed record name: {record_name}\")\n"
      ],
      "metadata": {
        "id": "KIVZpXxsENm4"
      },
      "execution_count": 24,
      "outputs": []
    },
    {
      "cell_type": "code",
      "source": [
        "# Write labels.csv\n",
        "with open(label_file, 'w', newline='') as f:\n",
        "    writer = csv.writer(f)\n",
        "    writer.writerows(csv_rows)\n",
        "\n",
        "print(f\"Saved label file to: {label_file}\")\n"
      ],
      "metadata": {
        "id": "uEHsvBhJjlVn",
        "outputId": "dd14f94e-e3c6-4969-fc24-16f0856add92",
        "colab": {
          "base_uri": "https://localhost:8080/"
        }
      },
      "execution_count": 25,
      "outputs": [
        {
          "output_type": "stream",
          "name": "stdout",
          "text": [
            "Saved label file to: /content/drive/MyDrive/Datasets/1.0.0_pro/labels.csv\n"
          ]
        }
      ]
    },
    {
      "cell_type": "code",
      "source": [
        "import torch\n",
        "from torch.utils.data import Dataset\n",
        "import numpy as np\n",
        "import os\n",
        "import pandas as pd\n",
        "\n",
        "class ECGSegmentDataset(Dataset):\n",
        "    def __init__(self, df, segment_dir, transform=None):\n",
        "        self.df = df.reset_index(drop=True)\n",
        "        self.segment_dir = segment_dir\n",
        "        self.transform = transform\n",
        "\n",
        "    def __len__(self):\n",
        "        return len(self.df)\n",
        "\n",
        "    def __getitem__(self, idx):\n",
        "        row = self.df.iloc[idx]\n",
        "        file_path = os.path.join(self.segment_dir, row['filename'])\n",
        "\n",
        "        ecg_segment = np.load(file_path).astype(np.float32)\n",
        "        ecg_tensor = torch.from_numpy(ecg_segment).transpose(0, 1)  # [channels, samples]\n",
        "        label = torch.tensor(row['label'], dtype=torch.long)\n",
        "\n",
        "        if self.transform:\n",
        "            ecg_tensor = self.transform(ecg_tensor)\n",
        "\n",
        "        return ecg_tensor, label\n",
        "\n"
      ],
      "metadata": {
        "id": "19OaU_-eXA7p"
      },
      "execution_count": null,
      "outputs": []
    },
    {
      "cell_type": "code",
      "source": [
        "from sklearn.model_selection import train_test_split\n",
        "from torch.utils.data import Dataset, DataLoader"
      ],
      "metadata": {
        "id": "IywEmDlZZWbn"
      },
      "execution_count": null,
      "outputs": []
    },
    {
      "cell_type": "code",
      "source": [
        "segment_dir = '/content/drive/MyDrive/Datasets/1.0.0_processed'\n",
        "label_csv = os.path.join(segment_dir, 'labels.csv')\n",
        "\n",
        "# Load labels\n",
        "df = pd.read_csv(label_csv)\n",
        "\n",
        "# Stratified split\n",
        "train_df, test_df = train_test_split(df, test_size=0.1, stratify=df['label'], random_state=42)\n",
        "\n",
        "# Print class balance\n",
        "print(\"Train label distribution:\\n\", train_df['label'].value_counts())\n",
        "print(\"Test label distribution:\\n\", test_df['label'].value_counts())"
      ],
      "metadata": {
        "colab": {
          "base_uri": "https://localhost:8080/"
        },
        "id": "AVHQ-9o6YFZ0",
        "outputId": "9aae5c5c-1994-43c9-f058-68cb8ad7553a"
      },
      "execution_count": null,
      "outputs": [
        {
          "output_type": "stream",
          "name": "stdout",
          "text": [
            "Train label distribution:\n",
            " label\n",
            "0    1350\n",
            "1    1350\n",
            "Name: count, dtype: int64\n",
            "Test label distribution:\n",
            " label\n",
            "0    150\n",
            "1    150\n",
            "Name: count, dtype: int64\n"
          ]
        }
      ]
    },
    {
      "cell_type": "code",
      "source": [
        "train_dataset = ECGSegmentDataset(train_df, segment_dir)\n",
        "test_dataset = ECGSegmentDataset(test_df, segment_dir)\n",
        "\n"
      ],
      "metadata": {
        "id": "6vlCqXSPZoZ1"
      },
      "execution_count": null,
      "outputs": []
    },
    {
      "cell_type": "code",
      "source": [
        "dir = '/content/drive/MyDrive/Datasets/2.0'\n",
        "\n",
        "os.makedirs(dir,exist_ok=True)\n",
        "\n",
        "\n",
        "test_csv_path = os.path.join(dir, 'test.csv')\n",
        "train_csv_path = os.path.join(dir, 'train.csv')\n",
        "\n",
        "train_df.to_csv(train_csv_path, index=False)\n",
        "test_df.to_csv(test_csv_path, index=False)\n",
        "\n",
        "\n"
      ],
      "metadata": {
        "id": "Culaagn2aFOH"
      },
      "execution_count": null,
      "outputs": []
    }
  ]
}