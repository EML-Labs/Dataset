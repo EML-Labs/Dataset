{
 "cells": [
  {
   "cell_type": "code",
   "execution_count": 1,
   "id": "661f46cf",
   "metadata": {},
   "outputs": [],
   "source": [
    "from tensorflow.keras.models import load_model\n",
    "from tensorflow.keras.optimizers import Adam\n",
    "from scipy.spatial.distance import squareform, pdist\n",
    "import numpy as np\n",
    "import matplotlib.pyplot as plt\n",
    "from skimage.transform import resize"
   ]
  },
  {
   "cell_type": "code",
   "execution_count": 6,
   "id": "0375da22",
   "metadata": {},
   "outputs": [],
   "source": [
    "model_path = \"/Users/weijithwimalasiri/Desktop/WARN/NN_weights/WEIGHTS.hdf5\"\n",
    "ppi_file = \"/Users/weijithwimalasiri/Desktop/JustForFun/mimic_perform_af_csv 2/ppi_001_data.txt\"\n",
    "rri_file = \"/Users/weijithwimalasiri/Desktop/JustForFun/mimic_perform_af_csv 2/rri_001_data.txt\"\n",
    "model = load_model(model_path)"
   ]
  },
  {
   "cell_type": "code",
   "execution_count": 3,
   "id": "31a89a74",
   "metadata": {},
   "outputs": [],
   "source": [
    "def normalize_to_gray_scale(matrix):\n",
    "    min_val = np.min(matrix)\n",
    "    max_val = np.max(matrix)\n",
    "    normalized_matrix = (matrix - min_val) / (max_val - min_val + 1e-8)  # Avoid division by zero\n",
    "    return (normalized_matrix*255).astype(np.uint8)\n",
    "\n",
    "def rp_plot(rri, delay, embedding_dim):\n",
    "    N= len(rri)\n",
    "    Nrp = N - (embedding_dim - 1) * delay\n",
    "    embedded_rri = np.array([rri[i: i + embedding_dim * delay: delay] for i in range(Nrp)])\n",
    "    distances = squareform(pdist(embedded_rri, metric='euclidean'))\n",
    "    return distances"
   ]
  },
  {
   "cell_type": "code",
   "execution_count": 10,
   "id": "47d7c728",
   "metadata": {},
   "outputs": [
    {
     "name": "stdout",
     "output_type": "stream",
     "text": [
      "1/1 [==============================] - 0s 387ms/step\n",
      "Prediction using ppi: [[5.139597e-18 9.999981e-01 1.965519e-06]]\n",
      "Predicted class for ppi: 1 with confidence 1.00\n",
      "1/1 [==============================] - 0s 63ms/step\n",
      "Prediction using rri: [[9.1697423e-09 1.0000000e+00 2.2892317e-08]]\n",
      "Predicted class for rri: 1 with confidence 1.00\n"
     ]
    }
   ],
   "source": [
    "img_dim = (224, 224)  # Desired image dimensions\n",
    "for signal_type, file_path in [('ppi', ppi_file), ('rri', rri_file)]:\n",
    "    # Read data\n",
    "    with open(file_path, \"r\") as f:\n",
    "        signal = [float(line.strip()) for line in f if line.strip()]\n",
    "\n",
    "    # Create reurrence plot\n",
    "    distances = rp_plot(signal[0:43], delay=3, embedding_dim=3)\n",
    "    rp_gray = normalize_to_gray_scale(distances)\n",
    "    rp_img = resize(rp_gray, img_dim, anti_aliasing=True, preserve_range=True).astype(np.uint8)\n",
    "\n",
    "    # Prepare input tensor\n",
    "    input_tensor = np.expand_dims(rp_img, axis=(0, -1))\n",
    "    pred = model.predict(input_tensor)\n",
    "\n",
    "    # Output prediction\n",
    "    print(f\"Prediction using {signal_type}: {pred}\")\n",
    "    pred_class = np.argmax(pred)\n",
    "    confidence = pred[0][pred_class]\n",
    "    print(f\"Predicted class for {signal_type}: {pred_class} with confidence {confidence:.2f}\")\n"
   ]
  }
 ],
 "metadata": {
  "kernelspec": {
   "display_name": "ml_base",
   "language": "python",
   "name": "python3"
  },
  "language_info": {
   "codemirror_mode": {
    "name": "ipython",
    "version": 3
   },
   "file_extension": ".py",
   "mimetype": "text/x-python",
   "name": "python",
   "nbconvert_exporter": "python",
   "pygments_lexer": "ipython3",
   "version": "3.9.7"
  }
 },
 "nbformat": 4,
 "nbformat_minor": 5
}
