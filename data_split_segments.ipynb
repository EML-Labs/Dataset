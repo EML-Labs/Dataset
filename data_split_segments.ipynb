{
 "cells": [
  {
   "cell_type": "markdown",
   "id": "2d7f40cd",
   "metadata": {},
   "source": [
    "## SPLITTING AFPDB Dataset \n"
   ]
  },
  {
   "cell_type": "markdown",
   "id": "10ce06ca",
   "metadata": {},
   "source": [
    "# Split the dataset to 30s waveforms with 25s overlap"
   ]
  },
  {
   "cell_type": "code",
   "execution_count": null,
   "id": "a24ae7ce",
   "metadata": {
    "vscode": {
     "languageId": "plaintext"
    }
   },
   "outputs": [],
   "source": [
    "import wfdb"
   ]
  }
 ],
 "metadata": {
  "language_info": {
   "name": "python"
  }
 },
 "nbformat": 4,
 "nbformat_minor": 5
}
