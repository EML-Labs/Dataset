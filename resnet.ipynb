{
 "cells": [
  {
   "cell_type": "code",
   "execution_count": null,
   "id": "1c060f74",
   "metadata": {},
   "outputs": [],
   "source": [
    "import numpy as np\n",
    "from scipy.spatial.distance import pdist, squareform\n",
    "\n",
    "def rp(signal, m , tau, epsilon, metric):\n",
    "    N = len(signal)\n",
    "    signal_embedded = np.array([signal[i:i + m * tau:tau] for i in range(N - (m - 1) * tau)])\n",
    "    D = squareform(pdist(signal_embedded, metric=metric))\n",
    "    R = (D < epsilon).astype(int)\n",
    "    return R\n",
    "\n",
    "\n"
   ]
  },
  {
   "cell_type": "code",
   "execution_count": null,
   "id": "fccc565b",
   "metadata": {},
   "outputs": [],
   "source": [
    "def embedding(signal, m, tau):\n",
    "    N = len(signal)\n",
    "    signal_embedded = np.array([signal[i:i + m * tau:tau] for i in range(N - (m - 1) * tau)])\n",
    "    return signal_embedded\n",
    "\n",
    "def global_epsilon(signal, m, tau, threshold_percentile=0.1):\n",
    "    signal_embedded = embedding(signal, m, tau)\n",
    "    D = squareform(pdist(signal_embedded, metric='euclidean'))\n",
    "    epsilon = threshold_percentile * np.max(D)\n",
    "    return epsilon"
   ]
  }
 ],
 "metadata": {
  "kernelspec": {
   "display_name": "harbor",
   "language": "python",
   "name": "python3"
  },
  "language_info": {
   "name": "python",
   "version": "3.13.1"
  }
 },
 "nbformat": 4,
 "nbformat_minor": 5
}
