{
 "cells": [
  {
   "cell_type": "markdown",
   "id": "fc5531d3",
   "metadata": {},
   "source": [
    "import numpy as np\n",
    "import matplotlib.pyplot as plt\n",
    "import os\n",
    "import neurokit2 as nk\n",
    "from scipy.signal import butter, filtfilt, find_peaks, convolve\n",
    "from scipy.spatial.distance import squareform, pdist\n",
    "from skimage.transform import resize\n"
   ]
  },
  {
   "cell_type": "code",
   "execution_count": 2,
   "id": "4f8db5f2",
   "metadata": {},
   "outputs": [],
   "source": [
    "def get_rri(qrs_raw_ind, fs):\n",
    "    rri = np.diff(qrs_raw_ind) / fs  # Convert indices to time in seconds\n",
    "    rri_milliseconds = rri * 1000\n",
    "    return rri_milliseconds"
   ]
  },
  {
   "cell_type": "code",
   "execution_count": null,
   "id": "79bb1865",
   "metadata": {},
   "outputs": [],
   "source": [
    "'''NeuraKit2 Based RR Interval Calculation'''\n",
    "\n",
    "def neurakit_rri(record, fs):\n",
    "    signals, info = nk.ecg_process(record, sampling_rate=fs, show = True)\n",
    "    rpeaks = info[\"ECG_R_Peaks\"]\n",
    "    rpeak_amplitudes = record[rpeaks]\n",
    "    rri = get_rri(rpeaks, fs)\n",
    "    return rri, rpeak_amplitudes, rpeaks\n",
    "\n",
    "save_dir = '/'\n",
    "record = np.load(os.path.join(save_dir, 'p01_2.npy'))\n",
    "fs = 128\n",
    "rri, rpeak_amplitudes, rpeaks = neurakit_rri(record, fs)\n",
    "\n"
   ]
  },
  {
   "cell_type": "code",
   "execution_count": null,
   "id": "868b639b",
   "metadata": {},
   "outputs": [],
   "source": [
    "def normalize_to_gray_scale(matrix):\n",
    "    min_val = np.min(matrix)\n",
    "    max_val = np.max(matrix)\n",
    "    normalized_matrix = (matrix - min_val) / (max_val - min_val + 1e-8)  # Avoid division by zero\n",
    "    return (normalized_matrix*255).astype(np.uint8)"
   ]
  },
  {
   "cell_type": "code",
   "execution_count": null,
   "id": "4ff117a6",
   "metadata": {},
   "outputs": [],
   "source": [
    "def rp_plot(rri, delay, embedding_dim):\n",
    "    N= len(rri)\n",
    "    Nrp = N - (embedding_dim - 1) * delay\n",
    "    embedded_rri = np.array([rri[i: i + embedding_dim * delay: delay] for i in range(Nrp)])\n",
    "    distances = squareform(pdist(embedded_rri, metric='euclidean'))\n",
    "    return distances"
   ]
  },
  {
   "cell_type": "code",
   "execution_count": null,
   "id": "9d8fa30d",
   "metadata": {},
   "outputs": [],
   "source": [
    "img_dim = (224, 224)\n",
    "print(rri)\n",
    "distances = rp_plot(rri, delay= 3, embedding_dim=3)\n",
    "rp_gray = normalize_to_gray_scale(distances)\n",
    "rp_img = resize(rp_gray, img_dim, anti_aliasing=True, preserve_range=True).astype(np.uint8)\n",
    "\n",
    "plt.imshow(rp_img, cmap='gray')\n",
    "plt.axis('off')\n",
    "plt.title(\"Recurrence Plot\")\n",
    "plt.show()"
   ]
  }
 ],
 "metadata": {
  "kernelspec": {
   "display_name": "harbor",
   "language": "python",
   "name": "python3"
  },
  "language_info": {
   "codemirror_mode": {
    "name": "ipython",
    "version": 3
   },
   "file_extension": ".py",
   "mimetype": "text/x-python",
   "name": "python",
   "nbconvert_exporter": "python",
   "pygments_lexer": "ipython3",
   "version": "3.13.1"
  }
 },
 "nbformat": 4,
 "nbformat_minor": 5
}
